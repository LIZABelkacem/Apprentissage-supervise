{
 "cells": [
  {
   "cell_type": "code",
   "execution_count": 265,
   "metadata": {},
   "outputs": [],
   "source": [
    "import numpy as np\n",
    "import pandas as pd\n",
    "import warnings\n",
    "import matplotlib.pyplot as plt\n",
    "warnings.filterwarnings('ignore')\n",
    "from sklearn.model_selection import train_test_split\n",
    "from sklearn import tree\n",
    "import graphviz\n",
    "from sklearn.neighbors import KNeighborsClassifier\n",
    "from sklearn.metrics import accuracy_score\n",
    "from sklearn import preprocessing"
   ]
  },
  {
   "cell_type": "code",
   "execution_count": 110,
   "metadata": {},
   "outputs": [
    {
     "data": {
      "text/html": [
       "<div>\n",
       "<style scoped>\n",
       "    .dataframe tbody tr th:only-of-type {\n",
       "        vertical-align: middle;\n",
       "    }\n",
       "\n",
       "    .dataframe tbody tr th {\n",
       "        vertical-align: top;\n",
       "    }\n",
       "\n",
       "    .dataframe thead th {\n",
       "        text-align: right;\n",
       "    }\n",
       "</style>\n",
       "<table border=\"1\" class=\"dataframe\">\n",
       "  <thead>\n",
       "    <tr style=\"text-align: right;\">\n",
       "      <th></th>\n",
       "      <th>Seniority</th>\n",
       "      <th>Home</th>\n",
       "      <th>Time</th>\n",
       "      <th>Age</th>\n",
       "      <th>Marital</th>\n",
       "      <th>Records</th>\n",
       "      <th>Job</th>\n",
       "      <th>Expenses</th>\n",
       "      <th>Income</th>\n",
       "      <th>Assets</th>\n",
       "      <th>Debt</th>\n",
       "      <th>Amount</th>\n",
       "      <th>Price</th>\n",
       "      <th>Status</th>\n",
       "    </tr>\n",
       "  </thead>\n",
       "  <tbody>\n",
       "    <tr>\n",
       "      <th>0</th>\n",
       "      <td>9</td>\n",
       "      <td>1</td>\n",
       "      <td>60</td>\n",
       "      <td>30</td>\n",
       "      <td>0</td>\n",
       "      <td>1</td>\n",
       "      <td>1</td>\n",
       "      <td>73</td>\n",
       "      <td>129</td>\n",
       "      <td>0</td>\n",
       "      <td>0</td>\n",
       "      <td>800</td>\n",
       "      <td>846</td>\n",
       "      <td>1</td>\n",
       "    </tr>\n",
       "    <tr>\n",
       "      <th>1</th>\n",
       "      <td>17</td>\n",
       "      <td>1</td>\n",
       "      <td>60</td>\n",
       "      <td>58</td>\n",
       "      <td>1</td>\n",
       "      <td>1</td>\n",
       "      <td>0</td>\n",
       "      <td>48</td>\n",
       "      <td>131</td>\n",
       "      <td>0</td>\n",
       "      <td>0</td>\n",
       "      <td>1000</td>\n",
       "      <td>1658</td>\n",
       "      <td>1</td>\n",
       "    </tr>\n",
       "    <tr>\n",
       "      <th>2</th>\n",
       "      <td>10</td>\n",
       "      <td>0</td>\n",
       "      <td>36</td>\n",
       "      <td>46</td>\n",
       "      <td>0</td>\n",
       "      <td>2</td>\n",
       "      <td>1</td>\n",
       "      <td>90</td>\n",
       "      <td>200</td>\n",
       "      <td>3000</td>\n",
       "      <td>0</td>\n",
       "      <td>2000</td>\n",
       "      <td>2985</td>\n",
       "      <td>0</td>\n",
       "    </tr>\n",
       "    <tr>\n",
       "      <th>3</th>\n",
       "      <td>0</td>\n",
       "      <td>1</td>\n",
       "      <td>60</td>\n",
       "      <td>24</td>\n",
       "      <td>1</td>\n",
       "      <td>1</td>\n",
       "      <td>0</td>\n",
       "      <td>63</td>\n",
       "      <td>182</td>\n",
       "      <td>2500</td>\n",
       "      <td>0</td>\n",
       "      <td>900</td>\n",
       "      <td>1325</td>\n",
       "      <td>1</td>\n",
       "    </tr>\n",
       "    <tr>\n",
       "      <th>4</th>\n",
       "      <td>0</td>\n",
       "      <td>1</td>\n",
       "      <td>36</td>\n",
       "      <td>26</td>\n",
       "      <td>1</td>\n",
       "      <td>1</td>\n",
       "      <td>0</td>\n",
       "      <td>46</td>\n",
       "      <td>107</td>\n",
       "      <td>0</td>\n",
       "      <td>0</td>\n",
       "      <td>310</td>\n",
       "      <td>910</td>\n",
       "      <td>1</td>\n",
       "    </tr>\n",
       "    <tr>\n",
       "      <th>...</th>\n",
       "      <td>...</td>\n",
       "      <td>...</td>\n",
       "      <td>...</td>\n",
       "      <td>...</td>\n",
       "      <td>...</td>\n",
       "      <td>...</td>\n",
       "      <td>...</td>\n",
       "      <td>...</td>\n",
       "      <td>...</td>\n",
       "      <td>...</td>\n",
       "      <td>...</td>\n",
       "      <td>...</td>\n",
       "      <td>...</td>\n",
       "      <td>...</td>\n",
       "    </tr>\n",
       "    <tr>\n",
       "      <th>4370</th>\n",
       "      <td>1</td>\n",
       "      <td>1</td>\n",
       "      <td>60</td>\n",
       "      <td>39</td>\n",
       "      <td>0</td>\n",
       "      <td>1</td>\n",
       "      <td>0</td>\n",
       "      <td>69</td>\n",
       "      <td>92</td>\n",
       "      <td>0</td>\n",
       "      <td>0</td>\n",
       "      <td>900</td>\n",
       "      <td>1020</td>\n",
       "      <td>0</td>\n",
       "    </tr>\n",
       "    <tr>\n",
       "      <th>4371</th>\n",
       "      <td>22</td>\n",
       "      <td>0</td>\n",
       "      <td>60</td>\n",
       "      <td>46</td>\n",
       "      <td>0</td>\n",
       "      <td>1</td>\n",
       "      <td>0</td>\n",
       "      <td>60</td>\n",
       "      <td>75</td>\n",
       "      <td>3000</td>\n",
       "      <td>600</td>\n",
       "      <td>950</td>\n",
       "      <td>1263</td>\n",
       "      <td>1</td>\n",
       "    </tr>\n",
       "    <tr>\n",
       "      <th>4372</th>\n",
       "      <td>0</td>\n",
       "      <td>0</td>\n",
       "      <td>24</td>\n",
       "      <td>37</td>\n",
       "      <td>0</td>\n",
       "      <td>1</td>\n",
       "      <td>1</td>\n",
       "      <td>60</td>\n",
       "      <td>90</td>\n",
       "      <td>3500</td>\n",
       "      <td>0</td>\n",
       "      <td>500</td>\n",
       "      <td>963</td>\n",
       "      <td>0</td>\n",
       "    </tr>\n",
       "    <tr>\n",
       "      <th>4373</th>\n",
       "      <td>0</td>\n",
       "      <td>1</td>\n",
       "      <td>48</td>\n",
       "      <td>23</td>\n",
       "      <td>1</td>\n",
       "      <td>1</td>\n",
       "      <td>1</td>\n",
       "      <td>49</td>\n",
       "      <td>140</td>\n",
       "      <td>0</td>\n",
       "      <td>0</td>\n",
       "      <td>550</td>\n",
       "      <td>550</td>\n",
       "      <td>1</td>\n",
       "    </tr>\n",
       "    <tr>\n",
       "      <th>4374</th>\n",
       "      <td>5</td>\n",
       "      <td>0</td>\n",
       "      <td>60</td>\n",
       "      <td>32</td>\n",
       "      <td>0</td>\n",
       "      <td>1</td>\n",
       "      <td>1</td>\n",
       "      <td>60</td>\n",
       "      <td>140</td>\n",
       "      <td>4000</td>\n",
       "      <td>1000</td>\n",
       "      <td>1350</td>\n",
       "      <td>1650</td>\n",
       "      <td>1</td>\n",
       "    </tr>\n",
       "  </tbody>\n",
       "</table>\n",
       "<p>4375 rows × 14 columns</p>\n",
       "</div>"
      ],
      "text/plain": [
       "      Seniority  Home  Time  Age  Marital  Records  Job  Expenses  Income  \\\n",
       "0             9     1    60   30        0        1    1        73     129   \n",
       "1            17     1    60   58        1        1    0        48     131   \n",
       "2            10     0    36   46        0        2    1        90     200   \n",
       "3             0     1    60   24        1        1    0        63     182   \n",
       "4             0     1    36   26        1        1    0        46     107   \n",
       "...         ...   ...   ...  ...      ...      ...  ...       ...     ...   \n",
       "4370          1     1    60   39        0        1    0        69      92   \n",
       "4371         22     0    60   46        0        1    0        60      75   \n",
       "4372          0     0    24   37        0        1    1        60      90   \n",
       "4373          0     1    48   23        1        1    1        49     140   \n",
       "4374          5     0    60   32        0        1    1        60     140   \n",
       "\n",
       "      Assets  Debt  Amount  Price  Status  \n",
       "0          0     0     800    846       1  \n",
       "1          0     0    1000   1658       1  \n",
       "2       3000     0    2000   2985       0  \n",
       "3       2500     0     900   1325       1  \n",
       "4          0     0     310    910       1  \n",
       "...      ...   ...     ...    ...     ...  \n",
       "4370       0     0     900   1020       0  \n",
       "4371    3000   600     950   1263       1  \n",
       "4372    3500     0     500    963       0  \n",
       "4373       0     0     550    550       1  \n",
       "4374    4000  1000    1350   1650       1  \n",
       "\n",
       "[4375 rows x 14 columns]"
      ]
     },
     "execution_count": 110,
     "metadata": {},
     "output_type": "execute_result"
    }
   ],
   "source": [
    "file = pd.read_csv (r'credit_scoring.csv', sep = ';', quotechar=\"'\", dtype = int)\n",
    "file"
   ]
  },
  {
   "cell_type": "code",
   "execution_count": 111,
   "metadata": {},
   "outputs": [
    {
     "name": "stdout",
     "output_type": "stream",
     "text": [
      "[[   9    1   60 ...  800  846    1]\n",
      " [  17    1   60 ... 1000 1658    1]\n",
      " [  10    0   36 ... 2000 2985    0]\n",
      " ...\n",
      " [   0    0   24 ...  500  963    0]\n",
      " [   0    1   48 ...  550  550    1]\n",
      " [   5    0   60 ... 1350 1650    1]]\n"
     ]
    }
   ],
   "source": [
    "file = file.values\n",
    "print(file)"
   ]
  },
  {
   "cell_type": "code",
   "execution_count": 241,
   "metadata": {},
   "outputs": [
    {
     "name": "stdout",
     "output_type": "stream",
     "text": [
      "les variables X =\n",
      " [[   9    1   60 ...    0  800  846]\n",
      " [  17    1   60 ...    0 1000 1658]\n",
      " [  10    0   36 ...    0 2000 2985]\n",
      " ...\n",
      " [   0    0   24 ...    0  500  963]\n",
      " [   0    1   48 ...    0  550  550]\n",
      " [   5    0   60 ... 1000 1350 1650]]\n",
      "\n",
      "\n",
      "les variables y =\n",
      " [[1]\n",
      " [1]\n",
      " [0]\n",
      " ...\n",
      " [0]\n",
      " [1]\n",
      " [1]]\n"
     ]
    }
   ],
   "source": [
    "data = file[:, :13]\n",
    "status = file[:, 13:14]\n",
    "print(\"les variables X =\\n\", data)\n",
    "print(\"\\n\")\n",
    "print(\"les variables y =\\n\", status)"
   ]
  },
  {
   "cell_type": "code",
   "execution_count": 113,
   "metadata": {},
   "outputs": [
    {
     "name": "stdout",
     "output_type": "stream",
     "text": [
      "la taille du tableau des données est :  (4375, 13)\n",
      "la taille du tableau de la variable status est :  (4375, 1)\n"
     ]
    }
   ],
   "source": [
    "print(\"la taille du tableau des données est : \", data.shape)\n",
    "print(\"la taille du tableau de la variable status est : \", status.shape)"
   ]
  },
  {
   "cell_type": "code",
   "execution_count": 114,
   "metadata": {},
   "outputs": [
    {
     "name": "stdout",
     "output_type": "stream",
     "text": [
      "le nombre de cas negatifs =  [1216.]\n",
      "le nombre de cas positifs =  [3159.]\n"
     ]
    },
    {
     "data": {
      "image/png": "[encoded data removed]",
      "text/plain": [
       "<Figure size 432x288 with 1 Axes>"
      ]
     },
     "metadata": {
      "needs_background": "light"
     },
     "output_type": "display_data"
    }
   ],
   "source": [
    "x, bins, bars = plt.hist(status, bins='auto')\n",
    "print(\"le nombre de cas negatifs = \", x[:1])\n",
    "print(\"le nombre de cas positifs = \", x[13:14])\n",
    "plt.title(\"Histogram des positifs et négatifs\")\n",
    "plt.savefig(\"Histogram.png\")\n",
    "plt.show()"
   ]
  },
  {
   "cell_type": "code",
   "execution_count": 236,
   "metadata": {},
   "outputs": [
    {
     "name": "stdout",
     "output_type": "stream",
     "text": [
      "les données de training sont les suivantes :\n",
      "\n",
      "X_train =\n",
      " [[   5    1   36 ...    0  850  870]\n",
      " [   4    1   36 ...    0 1000 1218]\n",
      " [   2    1   60 ...    0 1000 1000]\n",
      " ...\n",
      " [   1    0   60 ... 4500 1650 2060]\n",
      " [   1    1   60 ...    0  500 1300]\n",
      " [   4    1   48 ...    0  700  814]]\n",
      "\n",
      "\n",
      "y_train =\n",
      " [[0]\n",
      " [1]\n",
      " [0]\n",
      " ...\n",
      " [0]\n",
      " [0]\n",
      " [0]]\n",
      "\n",
      "les données de test sont les suivantes :\n",
      "\n",
      "X_test =\n",
      " [[   1    1   36 ...    0  600  975]\n",
      " [   6    1   18 ...    0  600 2724]\n",
      " [   4    0   60 ... 1200  950 1050]\n",
      " ...\n",
      " [  15    0   12 ...    0  200 1240]\n",
      " [   0    0   48 ...    0  760  860]\n",
      " [   0    0   48 ...    0 1100 1660]]\n",
      "\n",
      "\n",
      "y_test =\n",
      " [[0]\n",
      " [1]\n",
      " [1]\n",
      " ...\n",
      " [1]\n",
      " [0]\n",
      " [1]]\n",
      "\n",
      "\n",
      "la taille des données de training est: X_train = (3062, 13) y = (3062, 1)\n",
      "la taille des données de test est: X_test = (1313, 13) y = (1313, 1)\n"
     ]
    }
   ],
   "source": [
    "X_train, X_test, y_train, y_test = train_test_split(data, status, test_size=0.3)\n",
    "print(\"les données de training sont les suivantes :\\n\")\n",
    "print(\"X_train =\\n\", X_train)\n",
    "print(\"\\n\")\n",
    "print(\"y_train =\\n\", y_train)\n",
    "print(\"\\nles données de test sont les suivantes :\\n\")\n",
    "print(\"X_test =\\n\", X_test)\n",
    "print(\"\\n\")\n",
    "print(\"y_test =\\n\", y_test)\n",
    "print(\"\\n\")\n",
    "print (\"la taille des données de training est: X_train =\", X_train.shape, \"y =\", y_train.shape)\n",
    "print (\"la taille des données de test est: X_test =\", X_test.shape, \"y =\", y_test.shape)"
   ]
  },
  {
   "cell_type": "code",
   "execution_count": 234,
   "metadata": {},
   "outputs": [
    {
     "name": "stdout",
     "output_type": "stream",
     "text": [
      "le score est de = 72.2 %\n"
     ]
    }
   ],
   "source": [
    "clf = tree.DecisionTreeClassifier()\n",
    "clf = clf.fit(X_train, y_train)\n",
    "clf_pred = clf.predict(X_test)\n",
    "print(\"le score est de =\", round(accuracy_score(clf_pred, y_test)*100\n",
    ", 2), \"%\")"
   ]
  },
  {
   "cell_type": "code",
   "execution_count": 233,
   "metadata": {
    "scrolled": false
   },
   "outputs": [
    {
     "data": {
      "text/plain": [
       "'tree.pdf'"
      ]
     },
     "execution_count": 233,
     "metadata": {},
     "output_type": "execute_result"
    }
   ],
   "source": [
    "graph_data = tree.export_graphviz(clf, out_file=None,  \n",
    "           filled=True, rounded=True,  \n",
    "           special_characters=True)  \n",
    "graph = graphviz.Source(graph_data) \n",
    "graph.render(\"tree\")\n",
    "#graph"
   ]
  },
  {
   "cell_type": "code",
   "execution_count": 245,
   "metadata": {},
   "outputs": [
    {
     "name": "stdout",
     "output_type": "stream",
     "text": [
      "le score est de = 74.41 %\n"
     ]
    }
   ],
   "source": [
    "knn = KNeighborsClassifier(n_neighbors=5, metric='euclidean')\n",
    "knn = knn.fit(X_train, y_train)\n",
    "knn_pred = knn.predict(X_test)\n",
    "print(\"le score est de =\", round(accuracy_score(knn_pred, y_test)*100\n",
    ", 2), \"%\")"
   ]
  },
  {
   "cell_type": "code",
   "execution_count": 248,
   "metadata": {},
   "outputs": [
    {
     "name": "stdout",
     "output_type": "stream",
     "text": [
      "[[ 0.12417212  0.94505019  0.92225348 ... -0.50556494 -0.98717625\n",
      "   0.62042884]\n",
      " [ 1.10300637  0.94505019  0.92225348 ... -0.07976109  0.31890958\n",
      "   0.62042884]\n",
      " [ 0.2465264  -1.05814486 -0.71960165 ...  2.04925815  2.45336265\n",
      "  -1.6117884 ]\n",
      " ...\n",
      " [-0.97701642 -1.05814486 -1.54052921 ... -1.14427071 -0.79898408\n",
      "  -1.6117884 ]\n",
      " [-0.97701642  0.94505019  0.10132592 ... -1.03781975 -1.46328636\n",
      "   0.62042884]\n",
      " [-0.36524501 -1.05814486  0.92225348 ...  0.66539564  0.30604174\n",
      "   0.62042884]]\n"
     ]
    }
   ],
   "source": [
    "scaled_file = StandardScaler().fit_transform(file)\n",
    "print(scaled_file)"
   ]
  },
  {
   "cell_type": "code",
   "execution_count": 250,
   "metadata": {},
   "outputs": [
    {
     "name": "stdout",
     "output_type": "stream",
     "text": [
      "les variables X =\n",
      " [[ 0.12417212  0.94505019  0.92225348 ... -0.28136029 -0.50556494\n",
      "  -0.98717625]\n",
      " [ 1.10300637  0.94505019  0.92225348 ... -0.28136029 -0.07976109\n",
      "   0.31890958]\n",
      " [ 0.2465264  -1.05814486 -0.71960165 ... -0.28136029  2.04925815\n",
      "   2.45336265]\n",
      " ...\n",
      " [-0.97701642 -1.05814486 -1.54052921 ... -0.28136029 -1.14427071\n",
      "  -0.79898408]\n",
      " [-0.97701642  0.94505019  0.10132592 ... -0.28136029 -1.03781975\n",
      "  -1.46328636]\n",
      " [-0.36524501 -1.05814486  0.92225348 ...  0.54000599  0.66539564\n",
      "   0.30604174]]\n",
      "\n",
      "\n",
      "les variables y =\n",
      " [[ 0.62042884]\n",
      " [ 0.62042884]\n",
      " [-1.6117884 ]\n",
      " ...\n",
      " [-1.6117884 ]\n",
      " [ 0.62042884]\n",
      " [ 0.62042884]]\n"
     ]
    }
   ],
   "source": [
    "scaled_data = scaled_file[:, :13]\n",
    "scaled_status = scaled_file[:, 13:14]\n",
    "print(\"les variables X =\\n\", scaled_data)\n",
    "print(\"\\n\")\n",
    "print(\"les variables y =\\n\", scaled_status)"
   ]
  },
  {
   "cell_type": "code",
   "execution_count": 257,
   "metadata": {},
   "outputs": [
    {
     "name": "stdout",
     "output_type": "stream",
     "text": [
      "les données de training sont les suivantes :\n",
      "\n",
      "scaled_X_train =\n",
      " [[ 0.61358925 -1.05814486  0.92225348 ... -0.28136029  0.04798006\n",
      "   0.46688975]\n",
      " [ 1.10300637 -1.05814486 -2.36145678 ... -0.28136029 -1.35717263\n",
      "  -0.00922036]\n",
      " [ 0.61358925  0.94505019 -0.71960165 ... -0.28136029 -1.14427071\n",
      "  -1.06116633]\n",
      " ...\n",
      " [-0.48759929  0.94505019  0.92225348 ... -0.28136029 -0.82491782\n",
      "  -0.62687671]\n",
      " [-0.36524501  0.94505019 -1.54052921 ... -0.28136029 -1.51684908\n",
      "  -1.66434637]\n",
      " [-0.97701642 -1.05814486  0.10132592 ...  0.06361355  2.04925815\n",
      "   1.50757636]]\n",
      "\n",
      "\n",
      "scaled_y_train =\n",
      " [[ 0.62042884]\n",
      " [ 0.62042884]\n",
      " [ 0.62042884]\n",
      " ...\n",
      " [ 0.62042884]\n",
      " [ 0.62042884]\n",
      " [-1.6117884 ]]\n",
      "\n",
      "les données de test sont les suivantes :\n",
      "\n",
      "scaled_X_test =\n",
      " [[-4.87599294e-01  9.45050190e-01  9.22253481e-01 ... -2.81360285e-01\n",
      "   2.66898718e-02  1.13024127e-01]\n",
      " [-7.32307858e-01  9.45050190e-01  9.22253481e-01 ...  3.00410482e+00\n",
      "   4.52493720e-01 -1.76502288e-01]\n",
      " [ 2.08184063e+00  9.45050190e-01  9.22253481e-01 ... -2.81360285e-01\n",
      "   1.45313276e+00  1.00412209e+00]\n",
      " ...\n",
      " [ 1.81783505e-03  9.45050190e-01  9.22253481e-01 ... -2.81360285e-01\n",
      "   1.94280719e+00  1.31295027e+00]\n",
      " [ 8.58297811e-01 -1.05814486e+00 -7.19601648e-01 ... -2.81360285e-01\n",
      "  -5.05564938e-01 -2.56926292e-01]\n",
      " [-7.32307858e-01 -1.05814486e+00  9.22253481e-01 ... -2.81360285e-01\n",
      "  -9.31368786e-01 -4.49943903e-01]]\n",
      "\n",
      "\n",
      "scaled_y_test =\n",
      " [[-1.6117884 ]\n",
      " [ 0.62042884]\n",
      " [ 0.62042884]\n",
      " ...\n",
      " [ 0.62042884]\n",
      " [-1.6117884 ]\n",
      " [ 0.62042884]]\n",
      "\n",
      "\n",
      "la taille des données de training est: scaled_X_train = (3062, 13) y = (3062, 1)\n",
      "la taille des données de test est: scaled_X_test = (1313, 13) y = (1313, 1)\n"
     ]
    }
   ],
   "source": [
    "scaled_X_train, scaled_X_test, scaled_y_train, scaled_y_test = train_test_split(scaled_data, scaled_status, test_size=0.3)\n",
    "print(\"les données de training sont les suivantes :\\n\")\n",
    "print(\"scaled_X_train =\\n\", scaled_X_train)\n",
    "print(\"\\n\")\n",
    "print(\"scaled_y_train =\\n\", scaled_y_train)\n",
    "print(\"\\nles données de test sont les suivantes :\\n\")\n",
    "print(\"scaled_X_test =\\n\", scaled_X_test)\n",
    "print(\"\\n\")\n",
    "print(\"scaled_y_test =\\n\", scaled_y_test)\n",
    "print(\"\\n\")\n",
    "print (\"la taille des données de training est: scaled_X_train =\", X_train.shape, \"y =\", y_train.shape)\n",
    "print (\"la taille des données de test est: scaled_X_test =\", X_test.shape, \"y =\", y_test.shape)"
   ]
  },
  {
   "cell_type": "code",
   "execution_count": 273,
   "metadata": {},
   "outputs": [
    {
     "name": "stdout",
     "output_type": "stream",
     "text": [
      "le score est de = 61.92 %\n"
     ]
    }
   ],
   "source": [
    "lab_enc = preprocessing.LabelEncoder()\n",
    "scaled_y_train = lab_enc.fit_transform(scaled_y_train)\n",
    "\n",
    "scaled_clf = clf.fit(scaled_X_train, scaled_y_train)\n",
    "scaled_clf_pred = scaled_clf.predict(scaled_X_test)\n",
    "print(\"le score est de =\", round(accuracy_score(scaled_clf_pred, y_test)*100\n",
    ", 2), \"%\")"
   ]
  },
  {
   "cell_type": "code",
   "execution_count": 275,
   "metadata": {},
   "outputs": [
    {
     "name": "stdout",
     "output_type": "stream",
     "text": [
      "le score est de = 65.04 %\n"
     ]
    }
   ],
   "source": [
    "scaled_knn = knn.fit(scaled_X_train, scaled_y_train)\n",
    "scaled_knn_pred = scaled_knn.predict(scaled_X_test)\n",
    "print(\"le score est de =\", round(accuracy_score(scaled_knn_pred, y_test)*100\n",
    ", 2), \"%\")"
   ]
  }
 ],
 "metadata": {
  "kernelspec": {
   "display_name": "Python 3",
   "language": "python",
   "name": "python3"
  },
  "language_info": {
   "codemirror_mode": {
    "name": "ipython",
    "version": 3
   },
   "file_extension": ".py",
   "mimetype": "text/x-python",
   "name": "python",
   "nbconvert_exporter": "python",
   "pygments_lexer": "ipython3",
   "version": "3.7.5"
  }
 },
 "nbformat": 4,
 "nbformat_minor": 2
}
